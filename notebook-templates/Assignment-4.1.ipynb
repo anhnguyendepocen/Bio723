{
 "metadata": {
  "name": "",
  "signature": "sha256:d809b3a0935437ca1b5f939e728cbf770db6d4c920e800d237d6dde01c4fb1ca"
 },
 "nbformat": 3,
 "nbformat_minor": 0,
 "worksheets": [
  {
   "cells": [
    {
     "cell_type": "markdown",
     "metadata": {},
     "source": [
      "# Assignment 4.1\n",
      "\n",
      "Write a function, `mult_regr(X,y)` that calculates the multiple regression of $y$ on multiple predictors, $x_1, x_2, \\ldots x_k$ **using matrix operations**. Your function should take two arguments, $\\mathbf{X}$ and $\\vec{y}$, where $\\mathbf{X}$ is a matrix representing the predictor variables and $\\vec{y}$ is a vector for the outcome variable.  Your function should return a list containg the vector of regression coeffients, $B$, the coefficient of determination ($R^2$), and a vector, $\\hat{\\vec{y}}$, representing the fitted values.  Refer to the slides from lecture 4 (and possibly lecture 2 if you need a refresher) to review the matrix solution to the regression problem."
     ]
    },
    {
     "cell_type": "code",
     "collapsed": false,
     "input": [
      "def mult_regr(X,y):\n",
      "    pass # replace with function body"
     ],
     "language": "python",
     "metadata": {},
     "outputs": []
    },
    {
     "cell_type": "code",
     "collapsed": false,
     "input": [],
     "language": "python",
     "metadata": {},
     "outputs": []
    }
   ],
   "metadata": {}
  }
 ]
}