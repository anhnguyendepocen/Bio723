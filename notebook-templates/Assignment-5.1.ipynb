{
 "metadata": {
  "name": "",
  "signature": "sha256:b596a341278e8b66bcf0d7bdeb7b2b6c4186a209a8f3664dc4ae6e1501d70b28"
 },
 "nbformat": 3,
 "nbformat_minor": 0,
 "worksheets": [
  {
   "cells": [
    {
     "cell_type": "markdown",
     "metadata": {},
     "source": [
      "# Assignment 5.1\n",
      "\n",
      "Using the Bumpus bird data set, carry out the following logistic regressions:\n",
      "\n",
      "1. Survival ~ Weight\n",
      "2. Survival ~ Total Length\n",
      "3. Survival ~ Weight + Length\n",
      "\n",
      "For each model, carry out the analysis with the sexes grouped together and with the sexes separated.  \n",
      "\n",
      "Provide a verbal interpretation of your results as well as figures and/or tables to support your interpretation.  Aim for \"publication quality\" figures (i.e. label axes, include legends, titles, etc).\n",
      "ate tables"
     ]
    },
    {
     "cell_type": "code",
     "collapsed": false,
     "input": [],
     "language": "python",
     "metadata": {},
     "outputs": []
    }
   ],
   "metadata": {}
  }
 ]
}