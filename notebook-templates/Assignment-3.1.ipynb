{
 "metadata": {
  "name": "",
  "signature": "sha256:2db805717cdf39c88f1f56f6927696a00d85b6f5a3c027b2c1d191609d90f3bb"
 },
 "nbformat": 3,
 "nbformat_minor": 0,
 "worksheets": [
  {
   "cells": [
    {
     "cell_type": "markdown",
     "metadata": {},
     "source": [
      "# Bivariate Regression\n",
      "\n",
      "Last week we discussed how bivariate regression of an outcome variable $y$ on a predictor variable $x$ is equivalent to finding the variable, $\\hat{\\vec{y}}$, in the subspace defined by $\\vec{x}$, that is closest to $\\vec{y}$.  We showed that $\\hat{\\vec{y}}$ could be obtained by projecting  $\\vec{y}$ onto $\\hat{x}$.  \n",
      "\n",
      "For **mean centered vectors** the regression of $y$ on $x$ is given by is given by the following formula:\n",
      "\n",
      "$$\n",
      "\\hat{\\vec{y}} = b \\vec{x}\n",
      "$$\n",
      "\n",
      "where \n",
      "\n",
      "$$\n",
      "b = \\frac{\\vec{x} \\cdot \\vec{y}}{\\vec{x} \\cdot \\vec{x}}\n",
      "$$\n",
      "\n",
      "The **more general formula** for the regression of $y$ on $x$ is given by:\n",
      "\n",
      "$$\n",
      "\\hat{\\vec{y}} = a + b \\vec{x}\n",
      "$$\n",
      "\n",
      "where $a$ is the intercept. To solve the general case, let $\\vec{x_{c}}$ and $\\vec{y_{c}}$ be the mean centered vectors derived from $x$ and $y$ (i.e. $\\vec{x_c} = \\vec{x} - \\bar{x}\\vec{1}$), then:\n",
      "\n",
      "$$\n",
      "b = \\frac{\\vec{x_c} \\cdot \\vec{y_c}}{\\vec{x_c} \\cdot \\vec{x_c}}\n",
      "$$\n",
      "\n",
      "and \n",
      "\n",
      "$$\n",
      "a = \\bar{y} - b \\bar{x}\n",
      "$$"
     ]
    },
    {
     "cell_type": "markdown",
     "metadata": {},
     "source": [
      "# Assignment 3.1\n",
      "\n",
      "Write a regression function, `bivariate_regression(x,y)`, that takes as its input two vectors, $\\vec{x}$ and $\\vec{y}$, and returns:\n",
      "\n",
      "1. a list containing the mean-centered versions of $\\vec{x}$ and $\\vec{y}$\n",
      "2. the intercept, $a$, and regression coefficient, $b$ \n",
      "3. the coefficient of determination, $R^2$\n",
      "\n",
      "\n"
     ]
    },
    {
     "cell_type": "code",
     "collapsed": false,
     "input": [
      "# Assignment 3.1\n",
      "\n",
      "def bivariate_regression(x,y):\n",
      "    pass # replace this with your function body\n",
      "    return x_c, y_c, a, b, R2\n"
     ],
     "language": "python",
     "metadata": {},
     "outputs": []
    },
    {
     "cell_type": "code",
     "collapsed": false,
     "input": [
      "# test your regression function here against a data set of your choice"
     ],
     "language": "python",
     "metadata": {},
     "outputs": []
    }
   ],
   "metadata": {}
  }
 ]
}