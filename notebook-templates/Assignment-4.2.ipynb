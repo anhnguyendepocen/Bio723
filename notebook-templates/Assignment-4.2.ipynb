{
 "metadata": {
  "name": "",
  "signature": "sha256:336f778f9a27b8468cd426390091c306c595336657486321b7b0c91a6417e53c"
 },
 "nbformat": 3,
 "nbformat_minor": 0,
 "worksheets": [
  {
   "cells": [
    {
     "cell_type": "markdown",
     "metadata": {},
     "source": [
      "## Bumpus' Sparrow Data\n",
      "\n",
      "Bumpus (1898) described a sample of house sparrows which he collected\n",
      "after a very severe storm. The sample included 136 birds, sixty four of\n",
      "which perished during the storm. Also included in his description were a\n",
      "variety of morphological measurements on the birds and information about\n",
      "their sex and age (for male birds). This data set has become a benchmark\n",
      "in the evolutionary biology literature for demonstrating methods for\n",
      "analyzing natural selection. The bumpus data set is available from the\n",
      "class website as tab-delimited file called  [`bumpus-data.txt`](https://github.com/pmagwene/Bio723/raw/master/datasets/bumpus-data.txt).\n",
      "\n",
      "The morphological variables in the data set include:\n",
      "\n",
      "1. total length (mm)\n",
      "2. alar extent (mm)\n",
      "3. weight (g)\n",
      "4. length of beak and head (in)\n",
      "5. length of humerus (in)\n",
      "6. length of femur (in)\n",
      "7. length of tibiotarsus (in)\n",
      "8. width of skull (in)\n",
      "9. length of ternal keel (in)\n",
      "\n",
      "Bumpus, H. C. 1898. The elimination of the unfit as illustrated by the\n",
      "introduced sparrow, Passer domesticus. (A fourth contribution to the\n",
      "study of variation.) Biol. Lectures: Woods Hole Marine Biological\n",
      "Laboratory, 209--225."
     ]
    },
    {
     "cell_type": "markdown",
     "metadata": {},
     "source": [
      "# Assignment 4.2\n",
      "\n",
      "1. Subdivide the Bumpus data set into male and female birds. For this assignment you will work only with the male bird data.\n",
      "\n",
      "2.  For the male birds, calculate the relative fitness of each individual as $w = cW$ where $W$ is the absolute fitness of each individual (1 or 0 if the lived or died, respectively) and $c$ is total number of individuals divided by the number that survived.\n",
      "\n",
      "3. Carry out a multiple regression of relative fitness on each of the morpholological traits. Based on your analysis, determine which phenotypic traits are good predictors of fitness in this data set.  Justify your conclusion using information from the regression function, diagnostic plots, vector geometric consideration, raw data plots, etc.\n",
      "\n",
      "4. Repeat step 3, but using the cube root of weight instead of the raw values.  How does this change your interpretations, if at all.  Is the transformation of the weight trait justified on biological grounds?\n",
      "\n"
     ]
    },
    {
     "cell_type": "code",
     "collapsed": false,
     "input": [],
     "language": "python",
     "metadata": {},
     "outputs": []
    }
   ],
   "metadata": {}
  }
 ]
}