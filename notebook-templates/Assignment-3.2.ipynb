{
 "metadata": {
  "name": "",
  "signature": "sha256:c9aa7b8a488f032ea55416e295b4e03a7769d384adacca68ecb72b9797c8afca"
 },
 "nbformat": 3,
 "nbformat_minor": 0,
 "worksheets": [
  {
   "cells": [
    {
     "cell_type": "markdown",
     "metadata": {},
     "source": [
      "# Descriptive Statistics as Matrix Functions"
     ]
    },
    {
     "cell_type": "markdown",
     "metadata": {},
     "source": [
      "## Mean Vector and Matrix\n",
      "\n",
      "You can calculate a row vector of means, $\\mathbf{m}$, as: \n",
      "\n",
      "$$\n",
      "\\mathbf{m} = \\frac{1}{n} \\mathbf{1}^T  X\n",
      "$$ \n",
      "\n",
      "where $1$ is a $n \\times 1$ vector of ones.\n",
      "\n",
      "A $n \\times p$ matrix $M$ where each column is filled with the mean\n",
      "value for that column is: \n",
      "$$\n",
      "M = \\mathbf{1}\\mathbf{m}\n",
      "$$"
     ]
    },
    {
     "cell_type": "markdown",
     "metadata": {},
     "source": [
      "## Deviation Matrix\n",
      "\n",
      "To re-express each value as the deviation from the variable means\n",
      "(i.e. each columns is a mean centered vector) we calculate a deviation\n",
      "matrix: \n",
      "$$\n",
      "D = X - M\n",
      "$$\n"
     ]
    },
    {
     "cell_type": "markdown",
     "metadata": {},
     "source": [
      "## Covariance Matrix\n",
      "\n",
      "The $p \\times p$ covariance matrix can be expressed as a matrix product of the deviation matrix:\n",
      "$$\n",
      "S = \\frac{1}{n-1} D^T D\n",
      "$$"
     ]
    },
    {
     "cell_type": "markdown",
     "metadata": {},
     "source": [
      "## Correlation Matrix\n",
      "\n",
      "The correlation matrix, $R$, can be calculated from the covariance\n",
      "matrix by: \n",
      "$$\n",
      "R = V S V\n",
      "$$\n",
      "\n",
      "where $V$ is a $p \\times p$ diagonal matrix where\n",
      "$V_{ii} = 1/\\sqrt{S_{ii}}$."
     ]
    },
    {
     "cell_type": "markdown",
     "metadata": {},
     "source": [
      "## Concentration Matrix and Partial Correlations\n",
      "\n",
      "If the covariance matrix, $S$ is invertible, than inverse of the\n",
      "covariance matrix, $S^{-1}$, is called the \"concentration matrix\" or\n",
      "\"precision matrix\". We can relate the concentration matrix to partial\n",
      "correlations as follow. Let \n",
      "$$\n",
      "P = S^{-1}\n",
      "$$\n",
      "Then:\n",
      "$$\n",
      "\\mbox{corr}(x_i,x_j \\mid X \\backslash \\{x_i,x_j\\}) = -\\frac{p_{ij}}{\\sqrt{p_{ii} p_{jj}}}\n",
      "$$\n",
      "\n",
      "where $X \\backslash \\{x_i,x_j\\}$ indicates all variables other than\n",
      "$x_j$ and $x_i$. You can read this as \"the correlation between x and y\n",
      "conditional on all other variables.\""
     ]
    },
    {
     "cell_type": "markdown",
     "metadata": {},
     "source": [
      "# Assignment 3.2\n",
      "\n",
      "Create a Python library that includes functions that use matrix operations to calculate each of the descriptive statistics given above.  A template is provide for you below.\n",
      "\n",
      "Calculates these statistics for the iris data set and check the results of your functions against the corresponding functions NumPy functions where appropriate."
     ]
    },
    {
     "cell_type": "code",
     "collapsed": false,
     "input": [
      "# assignment 3.2\n",
      "\n",
      "def mean_vector(x):\n",
      "    pass # return with body of your function\n",
      "\n",
      "def mean_matrix(X):\n",
      "    pass # return with body of your function\n",
      "\n",
      "def deviate_matrix(X):\n",
      "    pass # return with body of your function\n",
      "\n",
      "def cov_matrix(X):\n",
      "    pass # return with body of your function\n",
      "\n",
      "def cor_matrix(X):\n",
      "    pass # return with body of your function"
     ],
     "language": "python",
     "metadata": {},
     "outputs": [],
     "prompt_number": 3
    },
    {
     "cell_type": "code",
     "collapsed": false,
     "input": [
      "# test with iris data set here"
     ],
     "language": "python",
     "metadata": {},
     "outputs": []
    }
   ],
   "metadata": {}
  }
 ]
}