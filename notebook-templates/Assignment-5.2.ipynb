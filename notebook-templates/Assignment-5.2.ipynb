{
 "metadata": {
  "name": "",
  "signature": "sha256:13cfc4c1ac4a6fec1ea69833fe5484e472591e52068b1619932d9988937e6e7b"
 },
 "nbformat": 3,
 "nbformat_minor": 0,
 "worksheets": [
  {
   "cells": [
    {
     "cell_type": "markdown",
     "metadata": {},
     "source": [
      "# Assignment 5.2\n",
      "\n",
      "1. Using the `obama-favorable-rating.csv` data file, generate plots showing favorable and unfavorables ratings for Barack Obama as a function of poll \"End Date\".  Your plots should include both the raw data and corresponding lowess fits. Use colors and/or shapes to distinguish the two trends. Make sure both your x- and y-axes are scaled to show the full range of the data. Label your axes and create a title in the plot. Aim for a publication quality figure.\n",
      "\n",
      "2.  Repeat the above analysis for just favorable ratings, creating data subset for the following pollsters: \"FOX\" and \"CBS/Times\" (i.e. your figure should only include data from these two pollsters, with distinct symbols and trend lines for each).\n",
      "\n",
      "3.  Based on your analysis in step 2, what sort of relative bias, if any, might you assign to the two different pollsters?  \n",
      "\ufffc"
     ]
    },
    {
     "cell_type": "code",
     "collapsed": false,
     "input": [],
     "language": "python",
     "metadata": {},
     "outputs": []
    }
   ],
   "metadata": {}
  }
 ]
}