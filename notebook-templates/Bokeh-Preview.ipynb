{
 "metadata": {
  "name": "",
  "signature": "sha256:9f1202ace1170e845ebf57a394af6e7e7452295e875fa4de5d603f0dc1b2d43a"
 },
 "nbformat": 3,
 "nbformat_minor": 0,
 "worksheets": [
  {
   "cells": [
    {
     "cell_type": "markdown",
     "metadata": {},
     "source": [
      "# A Quick Look at the Bokeh Plotting Library\n",
      "\n",
      "[Bokeh](http://bokeh.pydata.org/) is a Python plotting and visualization library, implemented as a javascript backend, that targets web browsers.  This library is relatively new, and in active development, so the API isn't very stable yet.  Despite its newness, Bokeh seems to have a lot of promise, and I thought I'd demonstrate one of the powerful features it supports -- \"Linked Brushing\" that is particularly useful for exploring multivariate data.\n",
      "\n",
      "For a more in-depth introduction to Bokeh see the [Bokeh IPython Tutorial]( http://nbviewer.ipython.org/github/ContinuumIO/bokeh-notebooks/blob/master/index.ipynb).\n"
     ]
    },
    {
     "cell_type": "markdown",
     "metadata": {},
     "source": [
      "# Update your Bokeh installation!\n",
      "\n",
      "The Anaconda Python distribution on your VM came with an earlier version of Bokeh. The examples below require a more up to date version of Bokeh than was originally installed on your VM.  The update the Bokeh library, type the following from the command line in your VM:\n",
      "\n",
      "```\n",
      "conda update bokeh\n",
      "```\n",
      "\n",
      "The same commands will also update your local install of Anaconda Python on your laptop.\n"
     ]
    },
    {
     "cell_type": "markdown",
     "metadata": {},
     "source": [
      "# Imports"
     ]
    },
    {
     "cell_type": "code",
     "collapsed": false,
     "input": [
      "import numpy as np\n",
      "import pandas as pd\n",
      "\n",
      "# require to embed Bokeh in Ipython\n",
      "from bokeh.plotting import *\n",
      "output_notebook()"
     ],
     "language": "python",
     "metadata": {},
     "outputs": []
    },
    {
     "cell_type": "markdown",
     "metadata": {},
     "source": [
      "# Example Data"
     ]
    },
    {
     "cell_type": "code",
     "collapsed": false,
     "input": [
      "iris = pd.read_csv('https://github.com/pmagwene/Bio723/raw/master/datasets/iris.csv')\n",
      "iris.columns = ['SLength', 'SWidth', 'PLength', 'PWidth', 'Species']"
     ],
     "language": "python",
     "metadata": {},
     "outputs": []
    },
    {
     "cell_type": "markdown",
     "metadata": {},
     "source": [
      "# Linked Brushing\n",
      "\n",
      "The example below creates a set of three scatter plots.  If you use the \"Select\" tool you can brush (select) points in one plot, and the corresponding observations will be highlighted in the other plots.  This is a powerful way to explore multivariate data sets like the one shown here."
     ]
    },
    {
     "cell_type": "code",
     "collapsed": false,
     "input": [
      "source = ColumnDataSource(iris.to_dict(\"list\"))\n",
      "\n",
      "# configure basic bokeh plotframe\n",
      "plot_config = dict(plot_width=300, plot_height=300, tools=\"pan,wheel_zoom,box_zoom,select\")\n",
      "\n",
      "gridplot([\n",
      "  # first row of grid \n",
      "  [circle(\"SLength\", \"SWidth\", color=\"blue\", \n",
      "         title=\"Sepal Length vs Sepal Width\", title_text_font_size=\"8pt\",\n",
      "         fill_color=None, source=source, **plot_config),\n",
      "  circle(\"PLength\", \"PWidth\", color=\"forestgreen\", \n",
      "         title=\"Petal Length vs Petal Width\", title_text_font_size=\"8pt\",\n",
      "         fill_color=None, source=source, **plot_config)],\n",
      "\n",
      "  # second row of grid\n",
      "  [circle(\"SLength\", \"PLength\",  color=\"red\", \n",
      "         title=\"Sepal Length vs Petal Length\",title_text_font_size=\"8pt\",\n",
      "         fill_color=None, source=source, **plot_config),\n",
      "  circle(\"SWidth\", \"PLength\",  color=\"purple\", \n",
      "         title=\"Sepal Width vs Petal Length\",title_text_font_size=\"8pt\",\n",
      "         fill_color=None, source=source, **plot_config)\n",
      "  ]])\n",
      "show()"
     ],
     "language": "python",
     "metadata": {},
     "outputs": []
    },
    {
     "cell_type": "code",
     "collapsed": false,
     "input": [],
     "language": "python",
     "metadata": {},
     "outputs": []
    }
   ],
   "metadata": {}
  }
 ]
}